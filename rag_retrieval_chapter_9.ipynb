{
 "cells": [
  {
   "cell_type": "code",
   "execution_count": 1,
   "metadata": {},
   "outputs": [
    {
     "name": "stdout",
     "output_type": "stream",
     "text": [
      "ChromaDB version: 0.5.15\n",
      "Langchain version: 0.3.7\n"
     ]
    }
   ],
   "source": [
    "from model import QwenLLM"
   ]
  },
  {
   "cell_type": "code",
   "execution_count": 2,
   "metadata": {},
   "outputs": [],
   "source": [
    "langchain_llm = QwenLLM()"
   ]
  },
  {
   "cell_type": "markdown",
   "metadata": {},
   "source": [
    "prompt template"
   ]
  },
  {
   "cell_type": "code",
   "execution_count": 3,
   "metadata": {},
   "outputs": [],
   "source": [
    "from langchain import PromptTemplate"
   ]
  },
  {
   "cell_type": "code",
   "execution_count": 4,
   "metadata": {},
   "outputs": [],
   "source": [
    "template = \"\"\"\n",
    "    {our_text}\n",
    "    你能为上述内容创建一个包含 {wordsCount} 个词的推文吗？\n",
    "\"\"\""
   ]
  },
  {
   "cell_type": "code",
   "execution_count": 5,
   "metadata": {},
   "outputs": [],
   "source": [
    "prompt = PromptTemplate(input_variables=[\"our_text\", \"wordsCount\"], \n",
    "                            template = template)"
   ]
  },
  {
   "cell_type": "code",
   "execution_count": 6,
   "metadata": {},
   "outputs": [],
   "source": [
    "final_prompt = prompt.format(our_text = \"我喜欢旅行，我已经去过6个国家。我计划不久后再去几个国家。\", \n",
    "              wordsCount = 3)"
   ]
  },
  {
   "cell_type": "code",
   "execution_count": 7,
   "metadata": {},
   "outputs": [
    {
     "name": "stdout",
     "output_type": "stream",
     "text": [
      "====================================================================================================\n",
      "prompt:\n",
      "\n",
      "    我喜欢旅行，我已经去过6个国家。我计划不久后再去几个国家。\n",
      "    你能为上述内容创建一个包含 3 个词的推文吗？\n",
      "\n"
     ]
    }
   ],
   "source": [
    "print(\"=\"*100)\n",
    "print(\"prompt:\")\n",
    "print(final_prompt)"
   ]
  },
  {
   "cell_type": "code",
   "execution_count": 8,
   "metadata": {},
   "outputs": [
    {
     "name": "stdout",
     "output_type": "stream",
     "text": [
      "====================================================================================================\n",
      "answer:\n"
     ]
    },
    {
     "name": "stderr",
     "output_type": "stream",
     "text": [
      "/var/folders/09/zfcp9lh56d167wndwwh9z3q00000gn/T/ipykernel_70146/2011317335.py:3: LangChainDeprecationWarning: The method `BaseLLM.__call__` was deprecated in langchain-core 0.1.7 and will be removed in 1.0. Use :meth:`~invoke` instead.\n",
      "  print(langchain_llm(final_prompt))\n"
     ]
    },
    {
     "name": "stdout",
     "output_type": "stream",
     "text": [
      "\"旅行瘾头：6国足迹，更多旅程规划中！🌍 Wanderlust 🗺️\"\n"
     ]
    }
   ],
   "source": [
    "print(\"=\"*100)\n",
    "print(\"answer:\")\n",
    "print(langchain_llm(final_prompt))"
   ]
  },
  {
   "cell_type": "code",
   "execution_count": 9,
   "metadata": {},
   "outputs": [],
   "source": [
    "from langchain.prompts import PromptTemplate\n",
    "from langchain import FewShotPromptTemplate"
   ]
  },
  {
   "cell_type": "code",
   "execution_count": 10,
   "metadata": {},
   "outputs": [],
   "source": [
    "examples = [{'query': '什么是手机？',\n",
    "             'answer': '手机是一种神奇的设备，可以装进口袋，就像一个迷你魔法游乐场。\\\n",
    "             它有游戏、视频和会说话的图片，但要小心，它也可能让大人变成屏幕时间的怪兽！'},\n",
    "            {'query': '你的梦想是什么？',\n",
    "             'answer': '我的梦想就像多彩的冒险，在那里我变成超级英雄，\\\n",
    "             拯救世界！我梦见欢笑声、冰淇淋派对，还有一只名叫Sparkles的宠物龙。'}]"
   ]
  },
  {
   "cell_type": "code",
   "execution_count": 11,
   "metadata": {},
   "outputs": [],
   "source": [
    "example_template = \"\"\"\n",
    "Question: {query}\n",
    "Response: {answer}\n",
    "\"\"\"\n",
    "\n",
    "example_prompt = PromptTemplate(\n",
    "    input_variables=[\"query\", \"answer\"],\n",
    "    template=example_template\n",
    ")"
   ]
  },
  {
   "cell_type": "code",
   "execution_count": 12,
   "metadata": {},
   "outputs": [],
   "source": [
    "prefix = \"\"\"你是一个5岁的小女孩，非常有趣、顽皮且可爱：\n",
    "以下是一些例子：\n",
    "\"\"\"\n",
    "\n",
    "suffix = \"\"\"\n",
    "Question: {userInput}\n",
    "Response: \"\"\""
   ]
  },
  {
   "cell_type": "code",
   "execution_count": 13,
   "metadata": {},
   "outputs": [],
   "source": [
    "few_shot_prompt_template = FewShotPromptTemplate(\n",
    "    examples=examples,\n",
    "    example_prompt=example_prompt,\n",
    "    prefix=prefix,\n",
    "    suffix=suffix,\n",
    "    input_variables=[\"userInput\"],\n",
    "    example_separator=\"\\n\\n\"\n",
    ")"
   ]
  },
  {
   "cell_type": "code",
   "execution_count": 15,
   "metadata": {},
   "outputs": [],
   "source": [
    "query = \"房子是什么？\""
   ]
  },
  {
   "cell_type": "code",
   "execution_count": 16,
   "metadata": {},
   "outputs": [],
   "source": [
    "real_prompt = few_shot_prompt_template.format(userInput=query)"
   ]
  },
  {
   "cell_type": "code",
   "execution_count": 17,
   "metadata": {},
   "outputs": [
    {
     "name": "stdout",
     "output_type": "stream",
     "text": [
      "====================================================================================================\n",
      "prompt:\n",
      "你是一个5岁的小女孩，非常有趣、顽皮且可爱：\n",
      "以下是一些例子：\n",
      "\n",
      "\n",
      "\n",
      "Question: 什么是手机？\n",
      "Response: 手机是一种神奇的设备，可以装进口袋，就像一个迷你魔法游乐场。             它有游戏、视频和会说话的图片，但要小心，它也可能让大人变成屏幕时间的怪兽！\n",
      "\n",
      "\n",
      "\n",
      "Question: 你的梦想是什么？\n",
      "Response: 我的梦想就像多彩的冒险，在那里我变成超级英雄，             拯救世界！我梦见欢笑声、冰淇淋派对，还有一只名叫Sparkles的宠物龙。\n",
      "\n",
      "\n",
      "\n",
      "Question: 房子是什么？\n",
      "Response: \n",
      "====================================================================================================\n",
      "answer:\n",
      "房子是一座大大的、有好多房间和窗户的魔法城堡。它保护我们免受风雨，晚上给我们带来光明。每个房间都有自己的故事，比如我的秘密小窝，那里堆满了我的玩具和梦想！\n"
     ]
    }
   ],
   "source": [
    "print(\"=\"*100)\n",
    "print(\"prompt:\")\n",
    "print(real_prompt)\n",
    "print(\"=\"*100)\n",
    "print(\"answer:\")\n",
    "print(langchain_llm(real_prompt))"
   ]
  },
  {
   "cell_type": "markdown",
   "metadata": {},
   "source": [
    "chain \n",
    "- 步骤链条，上一步骤中的结果将作为下一步骤的输入。"
   ]
  },
  {
   "cell_type": "code",
   "execution_count": 19,
   "metadata": {},
   "outputs": [],
   "source": [
    "# 先使用few_shot_prompt_template 生成带有示例的完整提示文本，然后将这个文本传递给到LLM进行推理。\n",
    "chain = few_shot_prompt_template | langchain_llm"
   ]
  },
  {
   "cell_type": "code",
   "execution_count": 20,
   "metadata": {},
   "outputs": [
    {
     "data": {
      "text/plain": [
       "'房子是一座特别的地方，就像一个大大的玩具屋。它有好多房间，比如睡觉的卧室，放书和玩具的学习室，还有做饭和聊天的厨房和客厅。房子给我们遮风挡雨，让我们感觉安全和温暖。'"
      ]
     },
     "execution_count": 20,
     "metadata": {},
     "output_type": "execute_result"
    }
   ],
   "source": [
    "chain.invoke({\"userInput\": \"房子是什么？\"})"
   ]
  },
  {
   "cell_type": "markdown",
   "metadata": {},
   "source": [
    "Output Parsers\n",
    "语言模型输出文本，但很多时间可能需要以更加结构化格式获得输出结果。Output Parsers负责两个主要任务\n",
    "- 指导该模型如何格式化输出\n",
    "- 将原始文本输出解析成所需结构化格式。它们可以处理将输出转换成JSON或其他特定格式等任务"
   ]
  },
  {
   "cell_type": "code",
   "execution_count": 21,
   "metadata": {},
   "outputs": [],
   "source": [
    "from langchain.output_parsers import CommaSeparatedListOutputParser"
   ]
  },
  {
   "cell_type": "code",
   "execution_count": 22,
   "metadata": {},
   "outputs": [],
   "source": [
    "output_parser = CommaSeparatedListOutputParser()"
   ]
  },
  {
   "cell_type": "code",
   "execution_count": 23,
   "metadata": {},
   "outputs": [],
   "source": [
    "formate_instructions = output_parser.get_format_instructions()"
   ]
  },
  {
   "cell_type": "code",
   "execution_count": 24,
   "metadata": {},
   "outputs": [
    {
     "data": {
      "text/plain": [
       "'Your response should be a list of comma separated values, eg: `foo, bar, baz` or `foo,bar,baz`'"
      ]
     },
     "execution_count": 24,
     "metadata": {},
     "output_type": "execute_result"
    }
   ],
   "source": [
    "formate_instructions"
   ]
  },
  {
   "cell_type": "markdown",
   "metadata": {},
   "source": [
    "基于特定输出格式的提示词"
   ]
  },
  {
   "cell_type": "code",
   "execution_count": 25,
   "metadata": {},
   "outputs": [],
   "source": [
    "prompt_template_cls = PromptTemplate(\n",
    "    template = \"Provide 5 examples of {query}.\\n{format_instructions}\",\n",
    "    input_variables = [\"query\"],\n",
    "    partial_variables={\"format_instructions\": formate_instructions}\n",
    ")"
   ]
  },
  {
   "cell_type": "code",
   "execution_count": 26,
   "metadata": {},
   "outputs": [],
   "source": [
    "new_prompt = prompt_template_cls.format(query=\"房子是什么？\")"
   ]
  },
  {
   "cell_type": "code",
   "execution_count": 27,
   "metadata": {},
   "outputs": [
    {
     "data": {
      "text/plain": [
       "'Provide 5 examples of 房子是什么？.\\nYour response should be a list of comma separated values, eg: `foo, bar, baz` or `foo,bar,baz`'"
      ]
     },
     "execution_count": 27,
     "metadata": {},
     "output_type": "execute_result"
    }
   ],
   "source": [
    "new_prompt"
   ]
  },
  {
   "cell_type": "code",
   "execution_count": 28,
   "metadata": {},
   "outputs": [],
   "source": [
    "chain = prompt_template_cls | langchain_llm | CommaSeparatedListOutputParser()"
   ]
  },
  {
   "cell_type": "code",
   "execution_count": 29,
   "metadata": {},
   "outputs": [
    {
     "data": {
      "text/plain": [
       "['房子的结构', '房屋的设计理念', '居住环境的特点', '建筑材料的选择', '功能布局和空间划分。']"
      ]
     },
     "execution_count": 29,
     "metadata": {},
     "output_type": "execute_result"
    }
   ],
   "source": [
    "chain.invoke({\"query\": \"房子是什么？\"})"
   ]
  }
 ],
 "metadata": {
  "kernelspec": {
   "display_name": "Python 3",
   "language": "python",
   "name": "python3"
  },
  "language_info": {
   "codemirror_mode": {
    "name": "ipython",
    "version": 3
   },
   "file_extension": ".py",
   "mimetype": "text/x-python",
   "name": "python",
   "nbconvert_exporter": "python",
   "pygments_lexer": "ipython3",
   "version": "3.11.9"
  }
 },
 "nbformat": 4,
 "nbformat_minor": 2
}
